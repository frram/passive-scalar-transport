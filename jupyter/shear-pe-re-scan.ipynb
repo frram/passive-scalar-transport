{
 "cells": [
  {
   "cell_type": "code",
   "execution_count": null,
   "metadata": {},
   "outputs": [],
   "source": [
    "import numpy as np\n",
    "import matplotlib.pyplot as plt\n",
    "import glob\n",
    "from mpl_toolkits.mplot3d import Axes3D\n",
    "from matplotlib import pyplot, cm\n",
    "%matplotlib inline"
   ]
  },
  {
   "cell_type": "code",
   "execution_count": null,
   "metadata": {},
   "outputs": [],
   "source": [
    "u = 0.5; d = np.pi/3; beta = 1; Lx = 2.*np.pi\n",
    "def deff_tuple(sav_file,u,d,beta,Lx,i):\n",
    "    data = np.load(sav_file)\n",
    "    try:\n",
    "        nsav = data['nhst']\n",
    "    except KeyError:\n",
    "        nsav = data['nsav']\n",
    "    D = data['D']; Ly = Lx; nx = data['nx']\n",
    "    m = data['m']; eta = data['eta']\n",
    "    nt = data['nt']; dt = data['dt']; dy = data['dx']\n",
    "    x = np.linspace(0,Ly,nx)\n",
    "    Pe = (u*d*beta)/D\n",
    "    Re = eta*(m/12)*(Lx/D)\n",
    "    navg_f = np.sum(nsav[-1,:,:]*dy,axis=0)/Ly\n",
    "    navg = navg_f\n",
    "    navg_i = np.sum(nsav[0,:,:]*dy,axis=0)/Ly\n",
    "    deltax = x[int(nx*(31/64))]-x[int(nx*(20/64))]\n",
    "    deltat = dt*(nt)\n",
    "    deff = (deltax/deltat)*((navg_f[int(nx*(31/64))]-navg_i[int(nx*(31/64))])/(navg_f[int(nx*(31/64))]-navg_f[int(nx*(20/64))]))\n",
    "    return D,Pe,Re,deff"
   ]
  },
  {
   "cell_type": "code",
   "execution_count": null,
   "metadata": {},
   "outputs": [],
   "source": [
    "m_modes = [0,1,2,3,4,5,6]\n",
    "dicts = {}\n",
    "fig = plt.figure(figsize=(12,10))\n",
    "ax = fig.add_subplot(111,projection='3d')\n",
    "for k in range(len(m_modes)):\n",
    "    dicts[k] = [[],[],[]]\n",
    "    zero_mode = '.\\shearflow_savez_0030\\shear_updated\\pst-n-pe-0030-m-00-alpha-00.npz'\n",
    "    D,Pe,Re,deff = deff_tuple(zero_mode,u,d,beta,Lx)\n",
    "    dicts[k][0].append(Pe); dicts[k][1].append(Re); dicts[k][2].append((-1)*deff)\n",
    "    sav_file = sorted(glob.glob('.\\shearflow_savez_0030\\shear_updated\\pst-n-pe-0030-m-0'+str(m_modes[k])+'-*'))\n",
    "    for i in range(len(sav_file)):\n",
    "        D,Pe,Re,deff = deff_tuple(sav_file[i],u,d,beta,Lx)\n",
    "        dicts[k][0].append(Pe); dicts[k][1].append(Re); dicts[k][2].append((-1)*deff)\n",
    "    if k == 0:\n",
    "        ax.scatter(dicts[k][1],dicts[k][0],dicts[k][2],s=50,c='black')\n",
    "        ax.plot(dicts[k][1],dicts[k][0],dicts[k][2],c='black')\n",
    "    else:\n",
    "        ax.scatter(dicts[k][1],dicts[k][0],dicts[k][2])\n",
    "        ax.plot(dicts[k][1],dicts[k][0],dicts[k][2],linewidth=0.4)\n",
    "ax.set_xlabel('Re',fontsize=20,labelpad=15)\n",
    "ax.set_ylabel('Pe',fontsize=20,labelpad=15)\n",
    "ax.set_zlabel(r'$D^*_*$',fontsize=20,labelpad=15)\n",
    "# ax.grid(False)\n",
    "\n",
    "plt.show()"
   ]
  },
  {
   "cell_type": "code",
   "execution_count": null,
   "metadata": {},
   "outputs": [],
   "source": [
    "fig, ax = plt.subplots()\n",
    "for i in range(len(m_modes)):\n",
    "    if i == 0:\n",
    "        ax.scatter(dicts[i][1],dicts[i][2],s=80,c='black',label='m = '+str(m_modes[i]))\n",
    "    else:\n",
    "        ax.plot(dicts[i][1],dicts[i][2],label='m = '+str(m_modes[i]))\n",
    "        ax.scatter(dicts[i][1],dicts[i][2])\n",
    "ax.set_ylabel(r'$D^*_*$',fontsize=20)\n",
    "ax.set_xlabel('Re',fontsize=20)\n",
    "ax.legend(loc='best',shadow=True)\n",
    "ax.set_ylim(0,0.0175)\n",
    "\n",
    "plt.tight_layout()\n",
    "plt.grid()\n",
    "plt.show()"
   ]
  }
 ],
 "metadata": {
  "kernelspec": {
   "display_name": "Python 3",
   "language": "python",
   "name": "python3"
  },
  "language_info": {
   "codemirror_mode": {
    "name": "ipython",
    "version": 3
   },
   "file_extension": ".py",
   "mimetype": "text/x-python",
   "name": "python",
   "nbconvert_exporter": "python",
   "pygments_lexer": "ipython3",
   "version": "3.7.2"
  }
 },
 "nbformat": 4,
 "nbformat_minor": 2
}
