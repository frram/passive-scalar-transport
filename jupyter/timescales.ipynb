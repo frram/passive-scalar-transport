{
 "cells": [
  {
   "cell_type": "code",
   "execution_count": null,
   "metadata": {},
   "outputs": [],
   "source": [
    "import numpy as np\n",
    "import matplotlib.pyplot as plt\n",
    "import glob\n",
    "%matplotlib inline"
   ]
  },
  {
   "cell_type": "code",
   "execution_count": null,
   "metadata": {},
   "outputs": [],
   "source": [
    "Ly = 2.*np.pi\n",
    "pth_zero = './inoutflux_savez/pst-pe-0030-m-0-alpha-00.npz'\n",
    "data0 = np.load(pth_zero)\n",
    "nsav = data0['nhst']\n",
    "nx = data0['nx']; dy = data0['dx']\n",
    "navg0 = np.sum(nsav[-1,:,:]*dy,axis=0)/Ly; navg0norm = navg0/np.max(navg0)"
   ]
  },
  {
   "cell_type": "code",
   "execution_count": null,
   "metadata": {},
   "outputs": [],
   "source": [
    "def timescale_calc(file_pth):\n",
    "    u = 0.5; d = np.pi/3; beta = 1\n",
    "    data = np.load(file_pth); Ly = 2.*np.pi\n",
    "    nsav = data['nhst']\n",
    "    nx = data['nx']; dy= data['dx']; alpha = data['eta']; m = data['m']\n",
    "    D = data['D']\n",
    "    try:\n",
    "        steps = data['steps']\n",
    "    except KeyError:\n",
    "        steps = 0\n",
    "    tauD = steps*(d**2/D); tauH = steps*(d/u); taush = steps*(Ly**2/(D*alpha**2*m**4))**(1/3)\n",
    "    navg = np.sum(nsav[-1,:,:]*dy,axis=0)/Ly; ntot = np.sum(navg[:]*dy)/Ly\n",
    "    navgnorm = navg/np.max(navg)\n",
    "    sigmasq = np.sum((navgnorm-navg0norm)**2*dy)\n",
    "    Pe = (u*d*beta)/D; Pesh = (d**2*m**2*alpha)/D\n",
    "    Pe_ratio = Pesh/Pe\n",
    "    return tauD, tauH, taush, sigmasq, ntot, Pe_ratio, alpha, m"
   ]
  },
  {
   "cell_type": "code",
   "execution_count": null,
   "metadata": {},
   "outputs": [],
   "source": [
    "m_val = [1,2,3,4]\n",
    "stor_val = {}\n",
    "for i,j in enumerate(m_val):\n",
    "    stor_val[i] = [[],[]]\n",
    "    f = sorted(glob.glob('./inoutflux_savez/pst-pe-0030-m-'+str(j)+'-alpha-*.npz'))\n",
    "    for q,p in enumerate(f):\n",
    "        tauD, tauH, taush, sigmasq, ntot, Pe_ratio, alpha, m = timescale_calc(p)\n",
    "        stor_val[i][0].append(np.sqrt(sigmasq)); stor_val[i][1].append(taush)\n",
    "        # stor_val[i][0].append(np.sqrt(Pe_ratio)); stor_val[i][1].append(taush)"
   ]
  },
  {
   "cell_type": "code",
   "execution_count": null,
   "metadata": {},
   "outputs": [],
   "source": [
    "fig, ax = plt.subplots()\n",
    "for i,j in enumerate(m_val):\n",
    "    ax.scatter(stor_val[i][1],stor_val[i][0],label=r'$m = $'+str(j))\n",
    "    # ax.plot(stor_val[i][1],stor_val[i][0],label=r'$m = $'+str(j))\n",
    "ax.legend(loc='best',shadow=True)\n",
    "ax.set_ylabel(r'$Log(\\sigma_x)$',fontsize=18)\n",
    "ax.set_xlabel(r'$Log(\\tau_S)$',fontsize=18)\n",
    "ax.set_xlim(1e5,1e9)\n",
    "ax.set_ylim(1e-5,2e0)\n",
    "ax.set_yscale('log')\n",
    "ax.set_xscale('log')\n",
    "plt.grid()\n",
    "plt.tight_layout()\n",
    "# savefile = './plots/shear-timescale.pdf'\n",
    "# plt.savefig(savefile,bbox_inches='tight')\n",
    "plt.show()"
   ]
  }
 ],
 "metadata": {
  "kernelspec": {
   "display_name": "Python 3",
   "language": "python",
   "name": "python3"
  },
  "language_info": {
   "codemirror_mode": {
    "name": "ipython",
    "version": 3
   },
   "file_extension": ".py",
   "mimetype": "text/x-python",
   "name": "python",
   "nbconvert_exporter": "python",
   "pygments_lexer": "ipython3",
   "version": "3.7.2"
  }
 },
 "nbformat": 4,
 "nbformat_minor": 2
}
