{
 "cells": [
  {
   "cell_type": "code",
   "execution_count": null,
   "metadata": {},
   "outputs": [],
   "source": [
    "%config InlineBackend.figure_format = 'retina'\n",
    "import numpy as np\n",
    "import matplotlib.pyplot as plt\n",
    "import scipy.fftpack as sf\n",
    "from IPython import display\n",
    "import math as mt\n",
    "import matplotlib.animation as animation\n",
    "plt.rcParams['font.size'] = 14\n",
    "plt.rcParams['axes.linewidth'] = 1.5\n",
    "plt.rcParams['animation.embed_limit']=60\n",
    "plt.rcParams['animation.html'] = 'jshtml'"
   ]
  },
  {
   "cell_type": "code",
   "execution_count": null,
   "metadata": {},
   "outputs": [],
   "source": [
    "def update_anim(it):\n",
    "    \n",
    "    fig.clf()\n",
    "\n",
    "    ax1 = fig.add_subplot(221)\n",
    "    ax2 = fig.add_subplot(222)\n",
    "    ax3 = fig.add_subplot(223)\n",
    "    ax4 = fig.add_subplot(224)    \n",
    "    \n",
    "    for ax in (ax1, ax2, ax3, ax4):\n",
    "        ax.clear()   \n",
    "\n",
    "    im1=ax1.imshow(nhst0[it,:,:],aspect='auto',origin='lower',vmin=0,vmax=0.018,cmap='gray');ax1.axis('off');fig.colorbar(im1, ax=ax1);ax1.set_title(r'$m = 2; \\eta = 0$')\n",
    "    im2=ax2.imshow(nhst1[it,:,:],aspect='auto',origin='lower',vmin=0,vmax=0.018,cmap='gray');ax2.axis('off');fig.colorbar(im2, ax=ax2);ax2.set_title(r'$m = 2; \\eta = 1$')\n",
    "    im3=ax3.imshow(nhst3[it,:,:],aspect='auto',origin='lower',vmin=0,vmax=0.018,cmap='gray');ax3.axis('off');fig.colorbar(im3, ax=ax3);ax3.set_title(r'$m = 2; \\eta = 3$')\n",
    "    im4=ax4.imshow(nhst5[it,:,:],aspect='auto',origin='lower',vmin=0,vmax=0.018,cmap='gray');ax4.axis('off');fig.colorbar(im4, ax=ax4);ax4.set_title(r'$m = 2; \\eta = 5$')"
   ]
  },
  {
   "cell_type": "code",
   "execution_count": null,
   "metadata": {},
   "outputs": [],
   "source": [
    "nt = 512000; isav=640\n",
    "data = np.load('./savez/pst-n-pe-0030-m-0-alpha-0-00.npz'); nhst0 = data['nhst']\n",
    "data = np.load('./savez/pst-n-pe-0030-m-2-alpha-1-00.npz'); nhst1 = data['nhst']\n",
    "data = np.load('./savez/pst-n-pe-0030-m-2-alpha-3-00.npz'); nhst3 = data['nhst']\n",
    "data = np.load('./savez/pst-n-pe-0030-m-2-alpha-5-00.npz'); nhst5 = data['nhst']\n",
    "print(np.shape(nhst))\n",
    "fig = plt.figure(figsize=(10,8))\n",
    "anim = animation.FuncAnimation(fig,update_anim,frames=nt//isav)\n",
    "plt.close()\n",
    "anim"
   ]
  }
 ],
 "metadata": {
  "kernelspec": {
   "display_name": "Python 3",
   "language": "python",
   "name": "python3"
  },
  "language_info": {
   "codemirror_mode": {
    "name": "ipython",
    "version": 3
   },
   "file_extension": ".py",
   "mimetype": "text/x-python",
   "name": "python",
   "nbconvert_exporter": "python",
   "pygments_lexer": "ipython3",
   "version": "3.7.5"
  }
 },
 "nbformat": 4,
 "nbformat_minor": 2
}
