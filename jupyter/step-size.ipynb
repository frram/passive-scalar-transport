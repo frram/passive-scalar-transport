{
 "cells": [
  {
   "cell_type": "code",
   "execution_count": null,
   "metadata": {},
   "outputs": [],
   "source": [
    "import numpy as np\n",
    "import matplotlib.pyplot as plt\n",
    "import glob\n",
    "%matplotlib inline"
   ]
  },
  {
   "cell_type": "code",
   "execution_count": null,
   "metadata": {},
   "outputs": [],
   "source": [
    "def sheardata(sav):\n",
    "    data = np.load(sav)\n",
    "    # print(data.files)\n",
    "    Ly = 2.*np.pi\n",
    "    nsav = data['nhst']\n",
    "    nx = data['nx']; dy = data['dx']\n",
    "    D = data['D']\n",
    "    w = data['w']; v = data['v']\n",
    "    m = data['m']; alpha = data['eta']\n",
    "    x = np.linspace(0,Ly,nx)\n",
    "    X, Y = np.meshgrid(x,x)\n",
    "    navg = np.sum(nsav[-1,:,:]*dy,axis=0)/Ly\n",
    "    nmax = np.max(navg)\n",
    "    return nsav, navg, nmax, w, v, m, alpha, x, X, Y"
   ]
  },
  {
   "cell_type": "code",
   "execution_count": null,
   "metadata": {},
   "outputs": [],
   "source": [
    "f = sorted(glob.glob('./inoutflux_savez/pst-pe-0030-m-4-*.npz'))\n",
    "fig, ax = plt.subplots()\n",
    "for i,j in enumerate(f):\n",
    "    nsav, navg, nmax, w, v, m, alpha, x, X, Y = sheardata(j)\n",
    "    # print(j,nmax)\n",
    "    navg_x = -np.gradient(navg)\n",
    "    ax.plot(x/(2*np.pi),np.abs(navg_x)/np.max(navg_x),label=r'$\\alpha =$'+str(alpha))\n",
    "# ax.set_ylim(-0.5,1.5)\n",
    "ax.set_xlim(0,1)\n",
    "ax.set_title(r'$\\psi_{shear}(m =$'+str(m)+r'$)$',fontsize=16)\n",
    "ax.set_xlabel(r'$x$',fontsize=16)\n",
    "ax.set_ylabel(r'$\\langle n \\rangle_y$',fontsize=18)\n",
    "# ax.legend(loc='best',shadow=True)\n",
    "plt.grid()\n",
    "plt.tight_layout()\n",
    "# savefile = './plots/navgshear-m-01.pdf'\n",
    "# plt.savefig(savefile,bbox_inches='tight')\n",
    "plt.show()"
   ]
  },
  {
   "cell_type": "code",
   "execution_count": null,
   "metadata": {},
   "outputs": [],
   "source": [
    "m_val = [1,2,3,4]; tol = 1.5e-1; stor_val = {}\n",
    "for q in range(len(m_val)):\n",
    "    pth = './inoutflux_savez/pst-pe-0030-m-'+str(m_val[q])+'-*.npz'\n",
    "    stor_val[q] = [[],[],[]]\n",
    "    f = sorted(glob.glob(pth))\n",
    "    for m,n in enumerate(f):\n",
    "        nsav, navg, nmax, w, v, m, alpha, x, X, Y = sheardata(n)\n",
    "        navg_x = -np.gradient(navg)\n",
    "        navg_x_norm = np.abs(navg_x/np.max(navg_x))\n",
    "        stair_count = 0\n",
    "        stair_length = 0\n",
    "        length_arr = []\n",
    "        for i in range(len(navg_x_norm)):\n",
    "            if i == len(navg_x_norm)-1 and navg_x_norm[i-1] <= tol:\n",
    "                stair_count += 1\n",
    "                stair_length += 1\n",
    "                length_arr.append(stair_length)\n",
    "            elif navg_x_norm[i] <= tol:\n",
    "                stair_length += 1\n",
    "            else:\n",
    "                if navg_x_norm[i-1] <= tol:\n",
    "                    # print(i)\n",
    "                    stair_count += 1\n",
    "                    length_arr.append(stair_length)\n",
    "                    stair_length = 0\n",
    "                else:\n",
    "                    pass\n",
    "        avg_stair_length = sum(length_arr)/stair_count\n",
    "        # print(avg_stair_length)\n",
    "        stor_val[q][0].append(alpha)\n",
    "        stor_val[q][1].append(avg_stair_length/len(navg_x_norm))\n",
    "        stor_val[q][2].append(len(length_arr))"
   ]
  },
  {
   "cell_type": "code",
   "execution_count": null,
   "metadata": {},
   "outputs": [],
   "source": [
    "fig, ax = plt.subplots()\n",
    "for q in range(len(m_val)):\n",
    "    ax.scatter(stor_val[q][0],stor_val[q][1],label=r'$m = $'+str(m_val[q]))\n",
    "    ax.plot(stor_val[q][0],stor_val[q][1])\n",
    "ax.legend(loc='best',shadow=True)\n",
    "ax.set_xlabel(r'$\\alpha$',fontsize=18)\n",
    "ax.set_ylabel(r'$\\hat{d}$',fontsize=18)\n",
    "plt.grid()\n",
    "plt.tight_layout()\n",
    "savefile = './plots/shear-cellsize.pdf'\n",
    "plt.savefig(savefile,bbox_inches='tight')\n",
    "plt.show()"
   ]
  },
  {
   "cell_type": "code",
   "execution_count": null,
   "metadata": {},
   "outputs": [],
   "source": [
    "fig, ax = plt.subplots()\n",
    "for q in range(len(m_val)):\n",
    "    ax.scatter(stor_val[q][0],stor_val[q][2],label=r'$m = $'+str(m_val[q]))\n",
    "    ax.plot(stor_val[q][0],stor_val[q][2])\n",
    "ax.legend(loc='best',shadow=True)\n",
    "ax.set_xlabel(r'$\\alpha$',fontsize=18)\n",
    "ax.set_ylabel('# steps',fontsize=18)\n",
    "ax.set_ylim(0,6.5)\n",
    "plt.grid()\n",
    "plt.tight_layout()\n",
    "savefile = './plots/shear-steps.pdf'\n",
    "plt.savefig(savefile,bbox_inches='tight')\n",
    "plt.show()"
   ]
  },
  {
   "cell_type": "code",
   "execution_count": null,
   "metadata": {},
   "outputs": [],
   "source": [
    "pth = './inoutflux_savez/pst-pe-0030-m-1-*.npz'\n",
    "f = sorted(glob.glob(pth)); tol = 2e-1\n",
    "nsav, navg, nmax, w, v, m, alpha, x, X, Y = sheardata(f[-4])\n",
    "navg_x = -np.gradient(navg)\n",
    "navg_x_norm = np.abs(navg_x/np.max(navg_x))\n",
    "stair_count = 0\n",
    "stair_length = 0\n",
    "length_arr = []\n",
    "for i in range(len(navg_x_norm)):\n",
    "    if navg_x_norm[i] <= tol:\n",
    "        stair_length += 1\n",
    "    else:\n",
    "        if navg_x_norm[i-1] <= tol:\n",
    "            stair_count += 1\n",
    "            length_arr.append(stair_length)\n",
    "            stair_length = 0\n",
    "        else:\n",
    "            pass\n",
    "avg_stair_length = sum(length_arr)/stair_count\n",
    "print(length_arr)"
   ]
  }
 ],
 "metadata": {
  "kernelspec": {
   "display_name": "Python 3",
   "language": "python",
   "name": "python3"
  },
  "language_info": {
   "codemirror_mode": {
    "name": "ipython",
    "version": 3
   },
   "file_extension": ".py",
   "mimetype": "text/x-python",
   "name": "python",
   "nbconvert_exporter": "python",
   "pygments_lexer": "ipython3",
   "version": "3.7.2"
  }
 },
 "nbformat": 4,
 "nbformat_minor": 2
}
