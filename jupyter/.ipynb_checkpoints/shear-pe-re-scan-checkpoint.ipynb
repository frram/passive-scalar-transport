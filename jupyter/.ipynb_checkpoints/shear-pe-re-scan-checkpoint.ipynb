{
 "cells": [
  {
   "cell_type": "code",
   "execution_count": null,
   "metadata": {},
   "outputs": [],
   "source": [
    "import numpy as np\n",
    "import matplotlib.pyplot as plt\n",
    "import glob\n",
    "from mpl_toolkits.mplot3d import Axes3D\n",
    "from matplotlib import pyplot, cm\n",
    "%matplotlib inline"
   ]
  },
  {
   "cell_type": "code",
   "execution_count": null,
   "metadata": {},
   "outputs": [],
   "source": [
    "# val = (x,y,z)\n",
    "u = 0.5; d = np.pi/3; beta = 1; Lx = 2.*np.pi\n",
    "def deff_tuple(sav_file,u,d,beta,Lx,i):\n",
    "    data = np.load(sav_file)\n",
    "    try:\n",
    "        nsav = data['nhst']\n",
    "    except KeyError:\n",
    "        nsav = data['nsav']\n",
    "    D = data['D']; Ly = Lx; nx = data['nx']\n",
    "    try:\n",
    "        m = data['m']\n",
    "    except KeyError:\n",
    "        m = 4\n",
    "    if i == 0:\n",
    "        eta = 0\n",
    "    else:\n",
    "        try:\n",
    "            eta = data['eta']\n",
    "        except KeyError:\n",
    "            eta = i\n",
    "    nt = data['nt']; dt = data['dt']; dy = data['dx']\n",
    "    x = np.linspace(0,Ly,nx)\n",
    "    Pe = (u*d*beta)/D\n",
    "    Re = eta*(m/12)*(Lx/D)\n",
    "    navg_f = np.sum(nsav[-1,:,:]*dy,axis=0)/Ly\n",
    "    navg = navg_f\n",
    "    navg_i = np.sum(nsav[0,:,:]*dy,axis=0)/Ly\n",
    "    deltax = x[int(nx*(31/64))]-x[int(nx*(20/64))]\n",
    "    deltat = dt*(nt)\n",
    "    deff = (deltax/deltat)*((navg_f[int(nx*(31/64))]-navg_i[int(nx*(31/64))])/(navg_f[int(nx*(31/64))]-navg_f[int(nx*(20/64))]))\n",
    "    return D,Pe,Re,deff"
   ]
  },
  {
   "cell_type": "code",
   "execution_count": null,
   "metadata": {},
   "outputs": [],
   "source": [
    "sav_file = sorted(glob.glob('.\\shearflow_savez_0030\\shear-m-04\\*'))"
   ]
  },
  {
   "cell_type": "code",
   "execution_count": null,
   "metadata": {},
   "outputs": [],
   "source": [
    "Pe_list = []; Re_list = []; deff_list = []\n",
    "fig = plt.figure(figsize=(10,10))\n",
    "ax = fig.add_subplot(111,projection='3d')\n",
    "for i in range(len(sav_file)):\n",
    "    # print(i)\n",
    "    D,Pe,Re,deff = deff_tuple(sav_file[i],u,d,beta,Lx,i)\n",
    "    ax.scatter(Pe,Re,deff)\n",
    "    Pe_list.append(Pe); Re_list.append(Re); deff_list.append(deff)\n",
    "ax.plot(Pe_list,Re_list,deff_list)\n",
    "ax.set_xlabel('Pe',fontsize=20)\n",
    "ax.set_ylabel('Re',fontsize=20)\n",
    "ax.set_zlabel(r'$D^*$',fontsize=20)\n",
    "# ax.grid(False)\n",
    "\n",
    "plt.show()"
   ]
  }
 ],
 "metadata": {
  "kernelspec": {
   "display_name": "Python 3",
   "language": "python",
   "name": "python3"
  },
  "language_info": {
   "codemirror_mode": {
    "name": "ipython",
    "version": 3
   },
   "file_extension": ".py",
   "mimetype": "text/x-python",
   "name": "python",
   "nbconvert_exporter": "python",
   "pygments_lexer": "ipython3",
   "version": "3.7.2"
  }
 },
 "nbformat": 4,
 "nbformat_minor": 2
}
