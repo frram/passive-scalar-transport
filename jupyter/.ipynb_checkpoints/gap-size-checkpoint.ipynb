{
 "cells": [
  {
   "cell_type": "code",
   "execution_count": null,
   "metadata": {},
   "outputs": [],
   "source": [
    "import numpy as np\n",
    "import matplotlib.pyplot as plt\n",
    "import glob\n",
    "%matplotlib inline"
   ]
  },
  {
   "cell_type": "code",
   "execution_count": null,
   "metadata": {},
   "outputs": [],
   "source": [
    "def sheardata(sav):\n",
    "    data = np.load(sav)\n",
    "    # print(data.files)\n",
    "    Ly = 2.*np.pi\n",
    "    nsav = data['nhst']\n",
    "    nx = data['nx']; dy = data['dx']\n",
    "    D = data['D']\n",
    "    w = data['w']; v = data['v']\n",
    "    m = data['m']; alpha = data['eta']\n",
    "    x = np.linspace(0,Ly,nx)\n",
    "    X, Y = np.meshgrid(x,x)\n",
    "    navg = np.sum(nsav[-1,:,:]*dy,axis=0)/Ly\n",
    "    nmax = np.max(navg)\n",
    "    return nsav, navg, nmax, w, v, m, alpha, x, X, Y"
   ]
  },
  {
   "cell_type": "code",
   "execution_count": null,
   "metadata": {},
   "outputs": [],
   "source": [
    "from scipy.signal import find_peaks\n",
    "f = sorted(glob.glob('./inoutflux_savez/pst-pe-0030-m-1-*.npz'))\n",
    "fig, ax = plt.subplots()\n",
    "print(f[-1])\n",
    "for i,j in enumerate(f):\n",
    "    nsav, navg, nmax, w, v, m, alpha, x, X, Y = sheardata(f[-1])\n",
    "    # print(j,nmax)\n",
    "    navg_x = -np.gradient(navg)\n",
    "    navg_xx = np.gradient(navg_x)\n",
    "    peaks, _ = find_peaks(np.abs(navg_xx/np.max(navg_xx)),height=0.1)\n",
    "    print(peaks)\n",
    "    ax.plot(peaks,navg_xx[peaks],'x')\n",
    "    ax.plot(navg_xx,label=r'$\\alpha =$'+str(alpha))\n",
    "# ax.set_ylim(-0.5,1.5)\n",
    "# ax.set_xlim(0,1)\n",
    "ax.set_title(r'$\\psi_{shear}(m =$'+str(m)+r'$)$',fontsize=16)\n",
    "ax.set_xlabel(r'$x$',fontsize=16)\n",
    "ax.set_ylabel(r'$\\langle n \\rangle_y$',fontsize=18)\n",
    "# ax.legend(loc='best',shadow=True)\n",
    "plt.grid()\n",
    "plt.tight_layout()\n",
    "# savefile = './plots/navgshear-m-01.pdf'\n",
    "# plt.savefig(savefile,bbox_inches='tight')\n",
    "plt.show()"
   ]
  },
  {
   "cell_type": "code",
   "execution_count": null,
   "metadata": {},
   "outputs": [],
   "source": [
    "m_vals = [1,2,3,4]; stor_val = {}\n",
    "for q in range(len(m_vals)):\n",
    "    pth = './inoutflux_savez/pst-pe-0030-m-'+str(m_vals[q])+'-*.npz'\n",
    "    stor_val[q] = [[],[]]\n",
    "    f = sorted(glob.glob(pth))\n",
    "    for m,n in enumerate(f):\n",
    "        nsav, navg, nmax, w, v, m, alpha, x, X, Y = sheardata(n)\n",
    "        navg_x = -np.gradient(navg)\n",
    "        navg_xx = np.gradient(navg_x)\n",
    "        peaks, _ = find_peaks(np.abs(navg_xx/np.max(navg_xx)),height=0.1)\n",
    "        gap_size = []\n",
    "        for i in range(len(peaks)):\n",
    "            if i == 0 or i == 11:\n",
    "                pass\n",
    "            elif (i)%2 == 0:\n",
    "                # print(i)\n",
    "                gap = peaks[i]-peaks[i-1]\n",
    "                gap_size.append(gap)\n",
    "            else:\n",
    "                pass\n",
    "        avg_gap_length = sum(gap_size)/len(gap_size)\n",
    "        stor_val[q][0].append(alpha)\n",
    "        stor_val[q][1].append(avg_gap_length/len(navg_xx))\n",
    "        gap_size.clear()"
   ]
  },
  {
   "cell_type": "code",
   "execution_count": null,
   "metadata": {},
   "outputs": [],
   "source": [
    "fig, ax = plt.subplots()\n",
    "for q in range(len(m_vals)):\n",
    "    ax.scatter(stor_val[q][0],stor_val[q][1],label=r'$m = $'+str(m_vals[q]))\n",
    "    ax.plot(stor_val[q][0],stor_val[q][1])\n",
    "ax.legend(loc='best',shadow=True)\n",
    "ax.set_xlabel(r'$\\alpha$',fontsize=18)\n",
    "ax.set_ylabel(r'$\\hat{\\delta}$',fontsize=18)\n",
    "plt.grid()\n",
    "plt.tight_layout()\n",
    "savefile = './plots/shear-gapsize.pdf'\n",
    "plt.savefig(savefile,bbox_inches='tight')\n",
    "plt.show()"
   ]
  }
 ],
 "metadata": {
  "kernelspec": {
   "display_name": "Python 3",
   "language": "python",
   "name": "python3"
  },
  "language_info": {
   "codemirror_mode": {
    "name": "ipython",
    "version": 3
   },
   "file_extension": ".py",
   "mimetype": "text/x-python",
   "name": "python",
   "nbconvert_exporter": "python",
   "pygments_lexer": "ipython3",
   "version": "3.7.2"
  }
 },
 "nbformat": 4,
 "nbformat_minor": 2
}
