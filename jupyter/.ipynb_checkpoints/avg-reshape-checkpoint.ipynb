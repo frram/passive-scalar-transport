{
 "cells": [
  {
   "cell_type": "code",
   "execution_count": null,
   "metadata": {},
   "outputs": [],
   "source": [
    "import numpy as np\n",
    "import matplotlib.pyplot as plt\n",
    "import glob\n",
    "%matplotlib inline"
   ]
  },
  {
   "cell_type": "code",
   "execution_count": null,
   "metadata": {},
   "outputs": [],
   "source": [
    "def reshapeavg(navg,size):\n",
    "    test1 = []\n",
    "    if size == (64,):\n",
    "        test1 = navg\n",
    "    elif size == (128,):\n",
    "        navgresh = np.reshape(navg,(64,2))\n",
    "        for i,j in enumerate(navgresh):\n",
    "            val = np.average(j)\n",
    "            test1.append(val)\n",
    "    elif size == (256,):\n",
    "        navgresh = np.reshape(navg,(64,4))\n",
    "        for i,j in enumerate(navgresh):\n",
    "            val = np.average(j)\n",
    "            test1.append(val)\n",
    "    else:\n",
    "        pass\n",
    "    return test1"
   ]
  },
  {
   "cell_type": "code",
   "execution_count": null,
   "metadata": {},
   "outputs": [],
   "source": [
    "def staircase_avg(navg_lst):\n",
    "    navg_avg = np.zeros(64)\n",
    "    size = len(navg_lst)\n",
    "    for c,v in enumerate(navg_lst):\n",
    "        for t,y in enumerate(v):\n",
    "            navg_avg[t] += y\n",
    "    navg_avg = navg_avg/size\n",
    "    return navg_avg"
   ]
  },
  {
   "cell_type": "code",
   "execution_count": null,
   "metadata": {},
   "outputs": [],
   "source": [
    "pth = './sav_update/'; Ly = 2.*np.pi\n",
    "navg_lst = []\n",
    "f = sorted(glob.glob(pth+'*.npz'))\n",
    "for i,j in enumerate(f):\n",
    "    data = np.load(j)\n",
    "    try:\n",
    "        nsav = data['nsav']\n",
    "    except KeyError:\n",
    "        nsav = data['nhst']\n",
    "    dy = data['dx']\n",
    "    navg = np.sum(nsav[-1,:,:]*dy,axis=0)/Ly\n",
    "    # navg = navg/np.max(navg)\n",
    "    test1 = reshapeavg(navg,np.shape(navg))\n",
    "    navg_lst.append(test1)"
   ]
  },
  {
   "cell_type": "code",
   "execution_count": null,
   "metadata": {},
   "outputs": [],
   "source": [
    "navg_avg = staircase_avg(navg_lst)\n",
    "fig, ax = plt.subplots()\n",
    "ax.plot(x,navg_avg,color='black')\n",
    "for i in range(len(navg_lst)):\n",
    "    ax.plot(x,navg_lst[i])\n",
    "\n",
    "plt.tight_layout()\n",
    "plt.show()"
   ]
  },
  {
   "cell_type": "code",
   "execution_count": null,
   "metadata": {},
   "outputs": [],
   "source": [
    "nx = 64; x = np.linspace(0,Ly,nx)\n",
    "num = 4\n",
    "print(f[num])\n",
    "data_test = np.load(f[num])\n",
    "try:\n",
    "    nsav = data_test['nsav']\n",
    "except KeyError:\n",
    "    nsav = data_test['nhst']\n",
    "dy = data_test['dx']; ny = data_test['nx']\n",
    "y = np.linspace(0,Ly,ny)\n",
    "navg = np.sum(nsav[-1,:,:]*dy,axis=0)/Ly\n",
    "fig, ax = plt.subplots()\n",
    "ax.plot(x,navg_lst[num])\n",
    "ax.plot(y,navg)\n",
    "\n",
    "plt.tight_layout()\n",
    "plt.show()"
   ]
  }
 ],
 "metadata": {
  "kernelspec": {
   "display_name": "Python 3",
   "language": "python",
   "name": "python3"
  },
  "language_info": {
   "codemirror_mode": {
    "name": "ipython",
    "version": 3
   },
   "file_extension": ".py",
   "mimetype": "text/x-python",
   "name": "python",
   "nbconvert_exporter": "python",
   "pygments_lexer": "ipython3",
   "version": "3.7.5"
  }
 },
 "nbformat": 4,
 "nbformat_minor": 2
}
