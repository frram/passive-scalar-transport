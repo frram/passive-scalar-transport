{
 "cells": [
  {
   "cell_type": "code",
   "execution_count": null,
   "metadata": {},
   "outputs": [],
   "source": [
    "import numpy as np\n",
    "import matplotlib.pyplot as plt\n",
    "import glob\n",
    "%matplotlib inline"
   ]
  },
  {
   "cell_type": "code",
   "execution_count": null,
   "metadata": {},
   "outputs": [],
   "source": [
    "# theoretical result\n",
    "u = 0.5; d = np.pi/3; beta=1; Ly = 2*np.pi\n",
    "# z = np.linspace(0,0.04,1000)\n",
    "z = np.linspace(0,0.25,1000)\n",
    "deff_th = np.sqrt(z*u*d*beta)"
   ]
  },
  {
   "cell_type": "code",
   "execution_count": null,
   "metadata": {},
   "outputs": [],
   "source": [
    "pth = './sav_update/'\n",
    "sav = sorted(glob.glob(pth+'*.npz'))\n",
    "print(len(sav))"
   ]
  },
  {
   "cell_type": "code",
   "execution_count": null,
   "metadata": {},
   "outputs": [],
   "source": [
    "def sim_deff_calc(file_pth,Ly):\n",
    "    data = np.load(file_pth)\n",
    "    try:\n",
    "        nsav = data['nsav']\n",
    "    except KeyError:\n",
    "        nsav = data['nhst']\n",
    "    nx = data['nx']\n",
    "    dy = data['dx']\n",
    "    nt = data['nt']\n",
    "    dt = data['dt']\n",
    "    D = data['D']\n",
    "    x = np.linspace(0,Ly,nx)\n",
    "    navg_f = np.sum(nsav[-1,:,:]*dy,axis=0)/Ly\n",
    "    navg = navg_f\n",
    "    navg_i = np.sum(nsav[0,:,:]*dy,axis=0)/Ly\n",
    "    navg_grad_f = np.gradient(navg_f,x)\n",
    "    navg_grad_i = np.gradient(navg_i,x)\n",
    "    deltax = x[int(nx*(31/64))]-x[int(nx*(20/64))]\n",
    "    deltat = dt*(nt)\n",
    "    deff_calc = (deltax/deltat)*((navg_f[int(nx*(31/64))]-navg_i[int(nx*(31/64))])/(navg_f[int(nx*(31/64))]-navg_f[int(nx*(20/64))]))\n",
    "    return navg, deff_calc, D"
   ]
  },
  {
   "cell_type": "code",
   "execution_count": null,
   "metadata": {},
   "outputs": [],
   "source": [
    "deff_calc_list = []\n",
    "D_list = []\n",
    "navg_list = []\n",
    "for i in sav:\n",
    "    print(i)\n",
    "    navg, deff_calc, deff_calc_test, D = sim_deff_calc(i,Ly)\n",
    "    navg_list.append(navg)\n",
    "    deff_calc_list.append(deff_calc)\n",
    "    D_list.append(D)"
   ]
  },
  {
   "cell_type": "code",
   "execution_count": null,
   "metadata": {},
   "outputs": [],
   "source": [
    "fig, ax = plt.subplots()\n",
    "for i in range(len(navg_list)):\n",
    "    x = np.linspace(0,Ly,len(navg_list[i]))\n",
    "    Pe = (u*d)/D_list[i]\n",
    "    navg_max = np.max(navg_list[i])\n",
    "    ax.plot(x/(2.*np.pi),navg_list[i],label='Pe='+str(int(Pe)))\n",
    "\n",
    "ax.legend(loc='best', shadow=True)\n",
    "ax.set_xlabel(r'$x$',fontsize=18)\n",
    "ax.set_ylabel(r'$\\langle n \\rangle_y$',fontsize=18)\n",
    "ax.set_xlim(0,1)\n",
    "# ax.set_ylim(0,0.02)\n",
    "plt.tight_layout()\n",
    "plt.grid()\n",
    "# savefile = './plots/navg-scan.pdf'\n",
    "# plt.savefig(savefile,bbox_inches='tight')\n",
    "plt.show()"
   ]
  },
  {
   "cell_type": "code",
   "execution_count": null,
   "metadata": {},
   "outputs": [],
   "source": [
    "fix, ax = plt.subplots()\n",
    "ax.plot(z,deff_th/7.5,label='Theory')\n",
    "ax.plot(D_list,np.negative(deff_calc_list),'.',label='Simulation',color='red',markersize=8)\n",
    "ax.set_xlabel(r'$D$',fontsize=18)\n",
    "ax.set_ylabel(r'$D^*$',fontsize=18)\n",
    "ax.legend(loc='best', shadow=True)\n",
    "ax.set_xlim(-0.002,0.08)\n",
    "ax.set_ylim(0,0.04)\n",
    "\n",
    "plt.tight_layout()\n",
    "# savefile = './plots/DeffvD-scan.pdf'\n",
    "# plt.savefig(savefile,bbox_inches='tight')\n",
    "plt.show()"
   ]
  },
  {
   "cell_type": "code",
   "execution_count": null,
   "metadata": {},
   "outputs": [],
   "source": [
    "p = np.linspace(0.1,4000,1000)\n",
    "deff_th_pe = u*d*beta/np.sqrt(p)\n",
    "pe_list = [5,6,10,17,30,74,174,307,747,1745]\n",
    "fix, ax = plt.subplots()\n",
    "ax.plot(p,(deff_th_pe/7.5)**(-1),label='Theory')\n",
    "ax.plot(pe_list,np.negative(deff_calc_list)**(-1),'.',label='Simulation',color='red',markersize=9)\n",
    "ax.set_xlabel(r'$Log(\\mathrm{Pe})$',fontsize=18)\n",
    "ax.set_ylabel(r'$-Log(D^*)$',fontsize=18)\n",
    "ax.legend(loc='best', shadow=True)\n",
    "ax.set_xlim(10**0.5,10**3.4)\n",
    "ax.set_ylim(10**1.1,10**3)\n",
    "ax.set_yscale('log')\n",
    "ax.set_xscale('log')\n",
    "\n",
    "plt.tight_layout()\n",
    "# savefile = './plots/logDeffvlogPe-scan.pdf'\n",
    "# plt.savefig(savefile,bbox_inches='tight')\n",
    "plt.show()"
   ]
  }
 ],
 "metadata": {
  "kernelspec": {
   "display_name": "Python 3",
   "language": "python",
   "name": "python3"
  },
  "language_info": {
   "codemirror_mode": {
    "name": "ipython",
    "version": 3
   },
   "file_extension": ".py",
   "mimetype": "text/x-python",
   "name": "python",
   "nbconvert_exporter": "python",
   "pygments_lexer": "ipython3",
   "version": "3.7.2"
  }
 },
 "nbformat": 4,
 "nbformat_minor": 2
}
