{
 "cells": [
  {
   "cell_type": "code",
   "execution_count": null,
   "metadata": {},
   "outputs": [],
   "source": [
    "import numpy as np\n",
    "import matplotlib.pyplot as plt\n",
    "import glob\n",
    "%matplotlib inline"
   ]
  },
  {
   "cell_type": "code",
   "execution_count": null,
   "metadata": {},
   "outputs": [],
   "source": [
    "def sheardata(sav):\n",
    "    data = np.load(sav)\n",
    "    Ly = 2.*np.pi\n",
    "    try:\n",
    "        nsav = data['nhst']\n",
    "    except KeyError:\n",
    "        nsav = data['nsav']\n",
    "    nx = data['nx']\n",
    "    dy = data['dx']\n",
    "    D = data['D']\n",
    "    w = data['w']; v = data['v']\n",
    "    x = np.linspace(0,Ly,nx)\n",
    "    X, Y = np.meshgrid(x,x)\n",
    "    navg = np.sum(nsav[-1,:,:]*dy,axis=0)/Ly\n",
    "    nmax = np.max(navg)\n",
    "    return nsav, navg, nmax, w, v, X, Y"
   ]
  },
  {
   "cell_type": "code",
   "execution_count": null,
   "metadata": {},
   "outputs": [],
   "source": [
    "pth = './'\n",
    "sav = sorted(glob.glob(pth+'shearflow_savez_0030\\shear-m-04\\*'))\n",
    "fig, ax = plt.subplots()\n",
    "for i in range(len(sav)):\n",
    "    nsav, navg, nmax, w, v, X, Y = sheardata(sav[i])\n",
    "    if i == 0:\n",
    "        ax.plot(x/Ly,navg/nmax,label=r'$\\alpha = $'+str(i))\n",
    "    else:\n",
    "        ax.plot(x/Ly,navg/nmax,label=r'$\\alpha = $'+str(i))\n",
    "ax.legend(loc='best',shadow=True)\n",
    "ax.set_xlim(0,1)\n",
    "ax.set_ylim(0,1)\n",
    "ax.set_title(r'$\\psi_{shear}(m =$' + str(4)+r'$)$',fontsize=16)\n",
    "ax.set_xlabel(r'$x$',fontsize=18)\n",
    "ax.set_ylabel(r'$\\langle n \\rangle_y$',fontsize=18)\n",
    "\n",
    "plt.tight_layout()\n",
    "plt.grid()\n",
    "# savefile = './plots/navgshear-scan-pe-30-m-01.pdf'\n",
    "# plt.savefig(savefile,bbox_inches='tight')\n",
    "plt.show()"
   ]
  },
  {
   "cell_type": "code",
   "execution_count": null,
   "metadata": {},
   "outputs": [],
   "source": [
    "fig, ax = plt.subplots(ncols=3,figsize=(12,4))\n",
    "val_list = [2,4,6]\n",
    "m = 4\n",
    "if m < 10:\n",
    "    sav = sorted(glob.glob(pth+'shearflow_savez_0030\\shear-m-0'+str(m)+'\\*'))\n",
    "else:\n",
    "    sav = sorted(glob.glob(pth+'shearflow_savez_0030\\shear-m-'+str(m)+'\\*'))\n",
    "for i in range(3):\n",
    "    nsav, navg, nmax, w, v, X, Y = sheardata(sav[val_list[i]])\n",
    "    ax[i].pcolormesh(X,Y,nsav[-1,:,:]/np.max(nsav[-1,:,:]),vmin=0,vmax=1,cmap='gray')\n",
    "    ax[i].streamplot(X, Y, w, v,density=1,color='white',linewidth=0.2)\n",
    "    ax[i].set_xlim(0,2.*np.pi)\n",
    "    ax[i].set_xticks([])\n",
    "    ax[i].set_yticks([])\n",
    "    ax[i].set_title('m = ' + str(m)+'; ' + r'$\\eta$ = ' + str(val_list[i]))\n",
    "    ax[i].set_xlabel(r'$x$',fontsize=18)\n",
    "    ax[i].set_ylabel(r'$y$',fontsize=18)\n",
    "plt.tight_layout()\n",
    "plt.show()"
   ]
  }
 ],
 "metadata": {
  "kernelspec": {
   "display_name": "Python 3",
   "language": "python",
   "name": "python3"
  },
  "language_info": {
   "codemirror_mode": {
    "name": "ipython",
    "version": 3
   },
   "file_extension": ".py",
   "mimetype": "text/x-python",
   "name": "python",
   "nbconvert_exporter": "python",
   "pygments_lexer": "ipython3",
   "version": "3.7.2"
  }
 },
 "nbformat": 4,
 "nbformat_minor": 2
}
