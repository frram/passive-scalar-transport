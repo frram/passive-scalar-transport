{
 "cells": [
  {
   "cell_type": "code",
   "execution_count": null,
   "metadata": {},
   "outputs": [],
   "source": [
    "import numpy as np\n",
    "import matplotlib.pyplot as plt\n",
    "import glob\n",
    "%matplotlib inline"
   ]
  },
  {
   "cell_type": "code",
   "execution_count": null,
   "metadata": {},
   "outputs": [],
   "source": [
    "def sheardata(sav):\n",
    "    data = np.load(sav)\n",
    "    # print(data.files)\n",
    "    Ly = 2.*np.pi\n",
    "    try:\n",
    "        nsav = data['nhst']\n",
    "    except KeyError:\n",
    "        nsav = data['nsav']\n",
    "    nx = data['nx']; dy = data['dx']\n",
    "    D = data['D']\n",
    "    w = data['w']; v = data['v']\n",
    "    x = np.linspace(0,Ly,nx)\n",
    "    X, Y = np.meshgrid(x,x)\n",
    "    navg = np.sum(nsav[-1,:,:]*dy,axis=0)/Ly\n",
    "    nmax = np.max(navg)\n",
    "    return nsav, navg, nmax, w, v, X, Y"
   ]
  },
  {
   "cell_type": "code",
   "execution_count": null,
   "metadata": {},
   "outputs": [],
   "source": [
    "pth = './'; Ly = 2.*np.pi\n",
    "m = 3\n",
    "if m < 10:\n",
    "    sav = sorted(glob.glob(pth+'shearflow_savez_0030\\shear_updated\\pst-n-pe-0030-m-0'+str(m)+'-alpha*'))\n",
    "else:\n",
    "    sav = sorted(glob.glob(pth+'shearflow_savez_0030\\shear_updated\\pst-n-pe-0030-m-'+str(m)+'-alpha*'))\n",
    "fig,ax = plt.subplots()\n",
    "for i in range(len(sav)):\n",
    "    nsav, navg, nmax, w, v, x, X, Y = sheardata(sav[i])\n",
    "    ax.plot(x/Ly,navg/nmax,label=r'$\\alpha = $'+str(i+1))\n",
    "ax.legend(loc='best',shadow=True)\n",
    "ax.set_xlim(0,1)\n",
    "ax.set_ylim(0,1)\n",
    "ax.set_title(r'$\\psi_{shear}(m =$'+str(m)+r'$)$',fontsize=16)\n",
    "ax.set_xlabel(r'$x$',fontsize=16)\n",
    "ax.set_ylabel(r'$\\langle n \\rangle_y$',fontsize=18)\n",
    "\n",
    "plt.tight_layout()\n",
    "plt.grid()\n",
    "plt.show()"
   ]
  },
  {
   "cell_type": "code",
   "execution_count": null,
   "metadata": {},
   "outputs": [],
   "source": [
    "val_list = [3,4,5]\n",
    "fig, ax = plt.subplots(ncols=len(val_list),figsize(12,4))\n",
    "m = 6\n",
    "if m < 10:\n",
    "    sav = sorted(glob.glob(pth+'shearflow_savez_0030\\shear-m-0'+str(m)+'\\*'))\n",
    "else:\n",
    "    sav = sorted(glob.glob(pth+'shearflow_savez_0030\\shear-m-'+str(m)+'\\*'))\n",
    "for i in range(len(val_list)):\n",
    "    nsav, navg, nmax, w, v, x, X, Y = sheardata(sav[val_list[i]])\n",
    "    ax[i].pcolormesh(X,Y,nsav[-1,:,:]/np.max(nsav[-1,:,:]),vmin=0,vmax=1,cmap='gray')\n",
    "    ax[i].streamplot(X,Y,w,v,density=1,color='white',linewidth=0.2)\n",
    "    ax[i].set_xlim(0,2.*np.pi); ax[i].set_ylim(0,2.*np.pi)\n",
    "    ax[i].set_xticks([]); ax[i].set_yticks([])\n",
    "    ax[i].set_title(r'$m$ = '+str(m)+'; '+r'$\\eta$ = '+str(val_list[i]))\n",
    "    ax[i].set_xlabel(r'$x$',fontsize=18); ax[i].set_ylabel(r'$y$',fontsize=18)\n",
    "plt.tight_layout()\n",
    "plt.show()"
   ]
  },
  {
   "cell_type": "code",
   "execution_count": null,
   "metadata": {},
   "outputs": [],
   "source": [
    "def peshear(file_pth):\n",
    "    u = 0.5; d = np.pi/3; beta=1\n",
    "    data = np.load(file_pth); Ly = 2.*np.pi\n",
    "    try:\n",
    "        nsav = data['nsav']\n",
    "    except KeyError:\n",
    "        nsav = data['nhst']\n",
    "    nx = data['nx']; dy = data['dx']; m = data['m']; eta = data['eta']\n",
    "    D = data['D']\n",
    "    x = np.linspace(0,Ly,nx)\n",
    "    navg = np.sum(nsav[-1,:,:]*dy,axis=0)/Ly\n",
    "    Pe = (u*d*beta)/D; Peshear = (u*beta*d**2*m*eta)/(2.*np.pi*D)\n",
    "    return navg,x,Pe,Peshear"
   ]
  },
  {
   "cell_type": "code",
   "execution_count": null,
   "metadata": {},
   "outputs": [],
   "source": [
    "pth = './'; Ly = 2.*np.pi\n",
    "m = 2\n",
    "if m < 10:\n",
    "    sav = sorted(glob.glob(pth+'shearflow_savez_0030\\shear_updated\\pst-n-pe-0030-m-0'+str(m)+'-alpha*'))\n",
    "else:\n",
    "    sav = sorted(glob.glob(pth+'shearflow_savez_0030\\shear_updated\\pst-n-pe-0030-m-'+str(m)+'-alpha*'))\n",
    "fig, ax = plt.subplots()\n",
    "for i in range(len(sav)):\n",
    "    navg,x,Pe,Peshear= peshear(sav[i])\n",
    "    print(int(Pe),int(Peshear))\n",
    "    if i == 9:\n",
    "        pass\n",
    "    else:\n",
    "        if int(Peshear) < int(Pe):\n",
    "            ax.plot(x/Ly,navg/np.max(navg),label=r'$\\alpha = $'+str(i+1),color='b')\n",
    "        elif int(Peshear) == int(Pe):\n",
    "            ax.plot(x/Ly,navg/np.max(navg),label=r'$\\alpha = $'+str(i+1),color='r')\n",
    "        else:\n",
    "            ax.plot(x/Ly,navg/np.max(navg),label=r'$\\alpha = $'+str(i+1),color='g')\n",
    "ax.legend(loc='best',shadow=True)\n",
    "ax.set_xlim(0,1)\n",
    "# ax.set_ylim(0,1)\n",
    "ax.set_title(r'$\\psi_{shear}(m =$' + str(m)+r'$)$',fontsize=16)\n",
    "ax.set_xlabel(r'$x$',fontsize=18)\n",
    "ax.set_ylabel(r'$\\langle n \\rangle_y$',fontsize=18)\n",
    "\n",
    "plt.tight_layout()\n",
    "plt.grid()\n",
    "# savefile = './plots/navgshear-scan-pe-30-m-01.pdf'\n",
    "# plt.savefig(savefile,bbox_inches='tight')\n",
    "plt.show()"
   ]
  }
 ],
 "metadata": {
  "kernelspec": {
   "display_name": "Python 3",
   "language": "python",
   "name": "python3"
  },
  "language_info": {
   "codemirror_mode": {
    "name": "ipython",
    "version": 3
   },
   "file_extension": ".py",
   "mimetype": "text/x-python",
   "name": "python",
   "nbconvert_exporter": "python",
   "pygments_lexer": "ipython3",
   "version": "3.7.2"
  }
 },
 "nbformat": 4,
 "nbformat_minor": 2
}
