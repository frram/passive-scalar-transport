{
 "cells": [
  {
   "cell_type": "code",
   "execution_count": null,
   "metadata": {},
   "outputs": [],
   "source": [
    "import numpy as np\n",
    "import matplotlib.pyplot as plt\n",
    "import glob\n",
    "%matplotlib inline"
   ]
  },
  {
   "cell_type": "code",
   "execution_count": null,
   "metadata": {},
   "outputs": [],
   "source": [
    "Ly = 2.*np.pi\n",
    "pth_zero = './shearflow_savez_0030/pst-n-pe-0030.npz'\n",
    "data0 = np.load(pth_zero)\n",
    "try:\n",
    "    nsav = data0['nhst']\n",
    "except KeyError:\n",
    "    nsav = data0['nsav']\n",
    "nx = data0['nx']; dy = data0['dx']\n",
    "navg0 = np.sum(nsav[-1,:,:]*dy,axis=0)/Ly; navg0 = navg0/np.max(navg0)"
   ]
  },
  {
   "cell_type": "code",
   "execution_count": null,
   "metadata": {},
   "outputs": [],
   "source": [
    "def sigma_calc(file_pth):\n",
    "    data = np.load(file_pth)\n",
    "    try:\n",
    "        nsav = data['nhst']\n",
    "    except KeyError:\n",
    "        nsav = data['nsav']\n",
    "    nx = data['nx']; dy = data['dx']\n",
    "    navg = np.sum(nsav[-1,:,:]*dy,axis=0)/Ly; navg = navg/np.max(navg)\n",
    "    sigmasq = np.sum((navg-navg0)**2*dy)\n",
    "    return sigmasq"
   ]
  },
  {
   "cell_type": "code",
   "execution_count": null,
   "metadata": {},
   "outputs": [],
   "source": [
    "def sheardata(sav):\n",
    "    data = np.load(sav)\n",
    "    # print(data.files)\n",
    "    Ly = 2.*np.pi\n",
    "    try:\n",
    "        nsav = data['nhst']\n",
    "    except KeyError:\n",
    "        nsav = data['nsav']\n",
    "    nx = data['nx']\n",
    "    dy = data['dx']\n",
    "    D = data['D']\n",
    "    w = data['w']; v = data['v']\n",
    "    x = np.linspace(0,Ly,nx)\n",
    "    X, Y = np.meshgrid(x,x)\n",
    "    navg = np.sum(nsav[-1,:,:]*dy,axis=0)/Ly\n",
    "    nmax = np.max(navg)\n",
    "    return nsav, navg, nmax, w, v, x , X, Y"
   ]
  },
  {
   "cell_type": "code",
   "execution_count": null,
   "metadata": {},
   "outputs": [],
   "source": [
    "from scipy import special\n",
    "f = sorted(glob.glob('./shearflow_savez_0030/shear_updated/pst-n-pe-0030-m-02-alpha-*.npz'))\n",
    "r = np.linspace(-3,3,1000); distr0 = 0.5*(1+special.erf(r/np.sqrt(0.00000001*2)))\n",
    "fig, ax = plt.subplots()\n",
    "# ax[0].plot(r,distr0,color='black')\n",
    "for i,j in enumerate(f):\n",
    "    sigmasq = sigma_calc(j)\n",
    "    print(np.sqrt(sigmasq))\n",
    "    # gfit = (1/(np.sqrt(2*np.pi*sigmasq)))*np.exp(-0.5*r**2/sigmasq)\n",
    "    distr = 0.5*(1+special.erf(r/np.sqrt(sigmasq*2)))\n",
    "    ax.plot(r,distr,label=r'$\\alpha = $'+str(i+1))\n",
    "    # ax[1].plot(r,gfit,label=r'$\\alpha = $'+str(i+1))\n",
    "ax.legend(loc='best',shadow=True)\n",
    "ax.set_ylim(0,1.05); ax.set_xlim(-3,3)\n",
    "plt.grid()\n",
    "plt.tight_layout()\n",
    "plt.show()"
   ]
  },
  {
   "cell_type": "code",
   "execution_count": null,
   "metadata": {},
   "outputs": [],
   "source": [
    "val_list = [2,4,6]; pth = './'\n",
    "fig, ax = plt.subplots(ncols=len(val_list),figsize=(12,4))\n",
    "m = 2\n",
    "if m < 10:\n",
    "    sav = sorted(glob.glob(pth+'shearflow_savez_0030\\shear-m-0'+str(m)+'\\*'))\n",
    "else:\n",
    "    sav = sorted(glob.glob(pth+'shearflow_savez_0030\\shear-m-'+str(m)+'\\*'))\n",
    "for i in range(len(val_list)):\n",
    "    nsav, navg, nmax, w, v, x, X, Y = sheardata(sav[val_list[i]])\n",
    "    ax[i].pcolormesh(X,Y,nsav[-1,:,:]/np.max(nsav[-1,:,:]),vmin=0,vmax=1,cmap='gray')\n",
    "    # ax[i].streamplot(X, Y, w, v,density=1,color='white',linewidth=0.2)\n",
    "    ax[i].set_xlim(0,2.*np.pi); ax[i].set_ylim(0,2.*np.pi)\n",
    "    ax[i].set_xticks([]); ax[i].set_yticks([])\n",
    "    ax[i].set_title(r'$m$ = ' + str(m)+'; ' + r'$\\eta$ = ' + str(val_list[i]))\n",
    "    ax[i].set_xlabel(r'$x$',fontsize=18); ax[i].set_ylabel(r'$y$',fontsize=18)\n",
    "plt.tight_layout()\n",
    "plt.show()"
   ]
  }
 ],
 "metadata": {
  "kernelspec": {
   "display_name": "Python 3",
   "language": "python",
   "name": "python3"
  },
  "language_info": {
   "codemirror_mode": {
    "name": "ipython",
    "version": 3
   },
   "file_extension": ".py",
   "mimetype": "text/x-python",
   "name": "python",
   "nbconvert_exporter": "python",
   "pygments_lexer": "ipython3",
   "version": "3.7.5"
  }
 },
 "nbformat": 4,
 "nbformat_minor": 2
}
